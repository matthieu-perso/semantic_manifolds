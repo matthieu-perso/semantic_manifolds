{
 "cells": [
  {
   "cell_type": "markdown",
   "metadata": {},
   "source": [
    "# Hierarchy "
   ]
  },
  {
   "cell_type": "code",
   "execution_count": null,
   "metadata": {},
   "outputs": [],
   "source": [
    "import numpy as np\n",
    "from sklearn.mixture import GaussianMixture\n",
    "\n",
    "def is_included(gmm1, gmm2, n_samples=1000, percentile=5):\n",
    "    # Generate sample points from the first GMM\n",
    "    samples, _ = gmm1.sample(n_samples)\n",
    "    \n",
    "    # Evaluate the density of these points using the second GMM\n",
    "    log_probs = gmm2.score_samples(samples)\n",
    "    probs = np.exp(log_probs)\n",
    "    \n",
    "    # Determine the density threshold for inclusion\n",
    "    threshold = np.percentile(probs, percentile)\n",
    "    \n",
    "    # Check if all points are above the threshold\n",
    "    included = np.all(probs > threshold)\n",
    "    \n",
    "    return included\n",
    "\n",
    "# Example usage\n",
    "gmm1 = GaussianMixture(n_components=3, random_state=42)\n",
    "gmm2 = GaussianMixture(n_components=3, random_state=42)\n",
    "\n",
    "# Fit GMMs to some data (replace with actual data)\n",
    "data1 = np.random.rand(100, 2)\n",
    "data2 = np.random.rand(100, 2)\n",
    "gmm1.fit(data1)\n",
    "gmm2.fit(data2)\n",
    "\n",
    "# Check if gmm1 is included in gmm2\n",
    "included = is_included(gmm1, gmm2)\n",
    "print(\"GMM1 is included in GMM2:\", included)"
   ]
  }
 ],
 "metadata": {
  "language_info": {
   "name": "python"
  }
 },
 "nbformat": 4,
 "nbformat_minor": 2
}
